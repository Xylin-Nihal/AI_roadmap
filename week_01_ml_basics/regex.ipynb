{
 "cells": [
  {
   "cell_type": "markdown",
   "id": "c6c8711b",
   "metadata": {},
   "source": [
    "# Python Regular Expressions (Regex) Course\n",
    "Welcome! This notebook will teach you how to use regular expressions (regex) in Python using the `re` library. Each section includes code snippets and explanations to help you master regex from scratch.\n",
    "\n",
    "## What is Regex?\n",
    "Regular expressions are patterns used to match, search, and manipulate text. They are powerful tools for text processing, data validation, and extraction.\n",
    "\n",
    "## What will you learn?\n",
    "- How to import and use the `re` library\n",
    "- Basic regex patterns and syntax\n",
    "- Common regex functions: `search`, `match`, `findall`, `finditer`, `sub`, `split`, `compile`\n",
    "- Special characters and quantifiers\n",
    "- Grouping and capturing\n",
    "- Practical examples and tips"
   ]
  },
  {
   "cell_type": "markdown",
   "id": "52ffd7c0",
   "metadata": {},
   "source": [
    "## 1. Importing the re Library\n",
    "The `re` module in Python provides support for working with regular expressions. You need to import it before using regex functions.\n",
    "\n",
    "- `import re` imports the regex library."
   ]
  },
  {
   "cell_type": "code",
   "execution_count": null,
   "id": "00ff95d1",
   "metadata": {},
   "outputs": [
    {
     "name": "stdout",
     "output_type": "stream",
     "text": [
      "re library imported!\n"
     ]
    }
   ],
   "source": [
    "import re\n",
    "print('re library imported!')\n",
    "print('This is a Python script that imports the re library.')"
   ]
  },
  {
   "cell_type": "markdown",
   "id": "4ffab87a",
   "metadata": {},
   "source": [
    "## 2. Basic Regex Patterns and Syntax\n",
    "A regex pattern is a string that defines a search pattern. Here are some basic elements:\n",
    "- `.` : Any character except newline\n",
    "- `^` : Start of string\n",
    "- `$` : End of string\n",
    "- `*` : 0 or more repetitions\n",
    "- `+` : 1 or more repetitions\n",
    "- `?` : 0 or 1 repetition\n",
    "- `[]` : Set of characters\n",
    "- `|` : Either/or\n",
    "- `()` : Grouping\n",
    "- `\\d` : Digit\n",
    "- `\\w` : Word character (alphanumeric or underscore)\n",
    "- `\\s` : Whitespace"
   ]
  },
  {
   "cell_type": "markdown",
   "id": "afb63526",
   "metadata": {},
   "source": [
    "## 3. re.search()\n",
    "`re.search(pattern, string)` scans through a string, looking for any location where the pattern matches. Returns a match object if found, else None.\n",
    "\n",
    "- Use when you want to find a pattern anywhere in the string."
   ]
  },
  {
   "cell_type": "code",
   "execution_count": 2,
   "id": "fd7ad7f4",
   "metadata": {},
   "outputs": [
    {
     "name": "stdout",
     "output_type": "stream",
     "text": [
      "Phone number found: 123-456-7890\n"
     ]
    }
   ],
   "source": [
    "text = 'My phone number is 123-456-7890.'\n",
    "match = re.search(r'\\d{3}-\\d{3}-\\d{4}', text)\n",
    "if match:\n",
    "    print('Phone number found:', match.group())\n",
    "else:\n",
    "    print('No phone number found.')"
   ]
  },
  {
   "cell_type": "markdown",
   "id": "1e974cbf",
   "metadata": {},
   "source": [
    "## 4. re.match()\n",
    "`re.match(pattern, string)` checks for a match only at the beginning of the string. Returns a match object if found, else None.\n",
    "\n",
    "- Use when you want to check if the string starts with a pattern."
   ]
  },
  {
   "cell_type": "code",
   "execution_count": 3,
   "id": "a408d04e",
   "metadata": {},
   "outputs": [
    {
     "name": "stdout",
     "output_type": "stream",
     "text": [
      "String starts with Hello\n"
     ]
    }
   ],
   "source": [
    "text = 'Hello world!'\n",
    "match = re.match(r'Hello', text)\n",
    "if match:\n",
    "    print('String starts with Hello')\n",
    "else:\n",
    "    print('String does not start with Hello')"
   ]
  },
  {
   "cell_type": "markdown",
   "id": "9f83efc4",
   "metadata": {},
   "source": [
    "## 5. re.findall()\n",
    "`re.findall(pattern, string)` returns all non-overlapping matches of the pattern in the string as a list.\n",
    "\n",
    "- Use when you want to find all occurrences of a pattern."
   ]
  },
  {
   "cell_type": "code",
   "execution_count": null,
   "id": "27453f15",
   "metadata": {
    "vscode": {
     "languageId": "coffeescript"
    }
   },
   "outputs": [],
   "source": [
    "# This code searches for email addresses in the given text using a regular expression.\n",
    "\n",
    "text = 'My emails are test1@example.com and test2@domain.com.'\n",
    "\n",
    "# re.findall() returns all non-overlapping matches of the pattern in the string as a list.\n",
    "# The pattern r'[\\w.-]+@[\\w.-]+' matches:\n",
    "# - [\\w.-]+ : one or more word characters (letters, digits, underscore), dots, or hyphens (the username part)\n",
    "# - @      : the at symbol\n",
    "# - [\\w.-]+ : one or more word characters, dots, or hyphens (the domain part)\n",
    "emails = re.findall(r'[\\w.-]+@[\\w.-]+', text)\n",
    "\n",
    "print('Found emails:', emails)\n",
    "# Output: Found emails: ['test1@example.com', 'test2@domain.com']"
   ]
  },
  {
   "cell_type": "code",
   "execution_count": 4,
   "id": "77b5aa67",
   "metadata": {},
   "outputs": [
    {
     "name": "stdout",
     "output_type": "stream",
     "text": [
      "Found emails: ['test1@example.com', 'test2@domain.com.']\n"
     ]
    }
   ],
   "source": [
    "text = 'My emails are test1@example.com and test2@domain.com.'\n",
    "emails = re.findall(r'[\\w.-]+@[\\w.-]+', text)\n",
    "print('Found emails:', emails)"
   ]
  },
  {
   "cell_type": "markdown",
   "id": "4254ee31",
   "metadata": {},
   "source": [
    "## 6. re.finditer()\n",
    "`re.finditer(pattern, string)` returns an iterator yielding match objects for all non-overlapping matches of the pattern in the string.\n",
    "\n",
    "- Use when you want to iterate over matches and get their positions."
   ]
  },
  {
   "cell_type": "code",
   "execution_count": 5,
   "id": "0e96d5d8",
   "metadata": {},
   "outputs": [
    {
     "name": "stdout",
     "output_type": "stream",
     "text": [
      "Found number: 12 at position 16\n",
      "Found number: 34 at position 20\n",
      "Found number: 56 at position 28\n"
     ]
    }
   ],
   "source": [
    "text = 'The numbers are 12, 34, and 56.'\n",
    "for match in re.finditer(r'\\d+', text):\n",
    "    print('Found number:', match.group(), 'at position', match.start())"
   ]
  },
  {
   "cell_type": "markdown",
   "id": "54a0f48d",
   "metadata": {},
   "source": [
    "## 7. re.sub()\n",
    "`re.sub(pattern, repl, string)` replaces occurrences of the pattern in the string with `repl`.\n",
    "- Use for search and replace operations."
   ]
  },
  {
   "cell_type": "code",
   "execution_count": 6,
   "id": "3c5fd9da",
   "metadata": {},
   "outputs": [
    {
     "name": "stdout",
     "output_type": "stream",
     "text": [
      "After substitution: I have many apples and many bananas.\n"
     ]
    }
   ],
   "source": [
    "text = 'I have 2 apples and 3 bananas.'\n",
    "result = re.sub(r'\\d+', 'many', text)\n",
    "print('After substitution:', result)"
   ]
  },
  {
   "cell_type": "markdown",
   "id": "e1d11b3a",
   "metadata": {},
   "source": [
    "## 8. re.split()\n",
    "`re.split(pattern, string)` splits the string by the occurrences of the pattern. Returns a list of substrings.\n",
    "- Use to split text by regex patterns (e.g., multiple delimiters)."
   ]
  },
  {
   "cell_type": "code",
   "execution_count": 7,
   "id": "073b9b30",
   "metadata": {},
   "outputs": [
    {
     "name": "stdout",
     "output_type": "stream",
     "text": [
      "Fruits: ['apple', 'orange', 'banana', 'grape']\n"
     ]
    }
   ],
   "source": [
    "text = 'apple, orange; banana|grape'\n",
    "fruits = re.split(r'[;,| ]+', text)\n",
    "print('Fruits:', fruits)"
   ]
  },
  {
   "cell_type": "markdown",
   "id": "197bc931",
   "metadata": {},
   "source": [
    "## 9. re.compile()\n",
    "`re.compile(pattern)` compiles a regex pattern into a regex object for repeated use. This can improve performance if you use the same pattern multiple times.\n",
    "- Use the compiled object’s methods: `search`, `match`, `findall`, etc."
   ]
  },
  {
   "cell_type": "code",
   "execution_count": 8,
   "id": "7105e493",
   "metadata": {},
   "outputs": [
    {
     "name": "stdout",
     "output_type": "stream",
     "text": [
      "Numbers found: ['123', '456', '789']\n"
     ]
    }
   ],
   "source": [
    "pattern = re.compile(r'\\d+')\n",
    "text = 'Order numbers: 123, 456, 789.'\n",
    "numbers = pattern.findall(text)\n",
    "print('Numbers found:', numbers)"
   ]
  },
  {
   "cell_type": "markdown",
   "id": "be156a97",
   "metadata": {},
   "source": [
    "## 10. Groups and Capturing\n",
    "Parentheses `()` in regex are used to capture groups. You can extract specific parts of a match using groups.\n",
    "- Use `group(1)`, `group(2)`, etc., to access captured groups."
   ]
  },
  {
   "cell_type": "code",
   "execution_count": 9,
   "id": "6af24764",
   "metadata": {},
   "outputs": [
    {
     "name": "stdout",
     "output_type": "stream",
     "text": [
      "Name: John\n",
      "Age: 30\n"
     ]
    }
   ],
   "source": [
    "text = 'Name: John, Age: 30'\n",
    "match = re.search(r'Name: (\\w+), Age: (\\d+)', text)\n",
    "if match:\n",
    "    print('Name:', match.group(1))\n",
    "    print('Age:', match.group(2))"
   ]
  },
  {
   "cell_type": "markdown",
   "id": "bdb761f4",
   "metadata": {},
   "source": [
    "## 11. Regex Flags\n",
    "Flags modify the behavior of regex functions. Common flags:\n",
    "- `re.IGNORECASE` or `re.I`: Case-insensitive matching\n",
    "- `re.MULTILINE` or `re.M`: `^` and `$` match the start/end of each line\n",
    "- `re.DOTALL` or `re.S`: `.` matches any character, including newline"
   ]
  },
  {
   "cell_type": "code",
   "execution_count": 10,
   "id": "537625f0",
   "metadata": {},
   "outputs": [
    {
     "name": "stdout",
     "output_type": "stream",
     "text": [
      "Case-insensitive matches: ['Python', 'PYTHON', 'python']\n"
     ]
    }
   ],
   "source": [
    "text = 'Python\\nPYTHON\\npython'\n",
    "matches = re.findall(r'python', text, re.IGNORECASE)\n",
    "print('Case-insensitive matches:', matches)"
   ]
  },
  {
   "cell_type": "markdown",
   "id": "31c170a6",
   "metadata": {},
   "source": [
    "# Summary and Next Steps\n",
    "You have learned the basics of Python's `re` library, including how to search, match, find, split, substitute, and use groups and flags in regular expressions.\n",
    "\n",
    "## Next Steps\n",
    "- Practice writing your own regex patterns for different text processing tasks.\n",
    "- Explore advanced topics like lookahead/lookbehind, non-capturing groups, and named groups.\n",
    "- Use online tools like [regex101.com](https://regex101.com/) to test and debug your patterns.\n",
    "- Read the [Python regex documentation](https://docs.python.org/3/library/re.html) for more details and examples.\n",
    "\n",
    "Happy regex-ing!"
   ]
  }
 ],
 "metadata": {
  "kernelspec": {
   "display_name": "Python 3",
   "language": "python",
   "name": "python3"
  },
  "language_info": {
   "codemirror_mode": {
    "name": "ipython",
    "version": 3
   },
   "file_extension": ".py",
   "mimetype": "text/x-python",
   "name": "python",
   "nbconvert_exporter": "python",
   "pygments_lexer": "ipython3",
   "version": "3.11.9"
  }
 },
 "nbformat": 4,
 "nbformat_minor": 5
}
